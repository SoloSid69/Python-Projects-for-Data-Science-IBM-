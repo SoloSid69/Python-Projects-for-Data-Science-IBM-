{
  "nbformat": 4,
  "nbformat_minor": 0,
  "metadata": {
    "colab": {
      "provenance": [],
      "gpuType": "T4"
    },
    "kernelspec": {
      "name": "python3",
      "display_name": "Python 3"
    },
    "language_info": {
      "name": "python"
    },
    "accelerator": "GPU"
  },
  "cells": [
    {
      "cell_type": "code",
      "source": [
        "#!pip install pandas==1.3.3\n",
        "#!pip install requests==2.26.0\n",
        "!mamba install bs4==4.10.0 -y\n",
        "!mamba install html5lib==1.1 -y\n",
        "!pip install lxml==4.6.4\n",
        "#!pip install plotly==5.3.1\n",
        "\n",
        "import pandas as pd\n",
        "import requests\n",
        "from bs4 import BeautifulSoup"
      ],
      "metadata": {
        "colab": {
          "base_uri": "https://localhost:8080/"
        },
        "id": "MWVR_tjzJAno",
        "outputId": "33348843-5d20-4860-8e83-864fa8899c5e"
      },
      "execution_count": null,
      "outputs": [
        {
          "output_type": "stream",
          "name": "stdout",
          "text": [
            "/bin/bash: line 1: mamba: command not found\n",
            "/bin/bash: line 1: mamba: command not found\n",
            "Requirement already satisfied: lxml==4.6.4 in /usr/local/lib/python3.10/dist-packages (4.6.4)\n"
          ]
        }
      ]
    },
    {
      "cell_type": "code",
      "source": [
        "import warnings\n",
        "# Ignore all warnings\n",
        "warnings.filterwarnings(\"ignore\", category=FutureWarning)\n",
        "\n",
        "url = \"https://cf-courses-data.s3.us.cloud-object-storage.appdomain.cloud/IBMDeveloperSkillsNetwork-PY0220EN-SkillsNetwork/labs/project/netflix_data_webpage.html\"\n",
        "\n",
        "data  = requests.get(url).text\n",
        "print(data)"
      ],
      "metadata": {
        "id": "Wu--ogTXJwHR"
      },
      "execution_count": null,
      "outputs": []
    },
    {
      "cell_type": "code",
      "source": [
        "soup = BeautifulSoup(data, 'html5lib')\n",
        "\n",
        "netflix_data = pd.DataFrame(columns=[\"Date\", \"Open\", \"High\", \"Low\", \"Close\", \"Adj Close\", \"Volume\"])"
      ],
      "metadata": {
        "id": "1nSVkLomJ0UQ"
      },
      "execution_count": null,
      "outputs": []
    },
    {
      "cell_type": "code",
      "source": [
        "# First we isolate the body of the table which contains all the information\n",
        "# Then we loop through each row and find all the column values for each row\n",
        "for row in soup.find(\"tbody\").find_all('tr'):\n",
        "    col = row.find_all(\"td\")\n",
        "    date = col[0].text\n",
        "    Open = col[1].text\n",
        "    high = col[2].text\n",
        "    low = col[3].text\n",
        "    close = col[4].text\n",
        "    adj_close = col[5].text\n",
        "    volume = col[6].text\n",
        "\n",
        "    # Create a new row as a dictionary\n",
        "    new_row = {\"Date\": date, \"Open\": Open, \"High\": high, \"Low\": low, \"Close\": close, \"Adj Close\": adj_close, \"Volume\": volume}\n",
        "\n",
        "    # Append the new row to the DataFrame\n",
        "    netflix_data = pd.concat([netflix_data, pd.DataFrame([new_row])], ignore_index=True)\n",
        "\n",
        "netflix_data.head()"
      ],
      "metadata": {
        "colab": {
          "base_uri": "https://localhost:8080/",
          "height": 206
        },
        "id": "HFH38YJ-KGM1",
        "outputId": "98e1b85e-307e-427d-a3cf-c1ccc216c867"
      },
      "execution_count": null,
      "outputs": [
        {
          "output_type": "execute_result",
          "data": {
            "text/plain": [
              "           Date    Open    High     Low   Close Adj Close       Volume\n",
              "0  Jun 01, 2021  504.01  536.13  482.14  528.21    528.21   78,560,600\n",
              "1  May 01, 2021  512.65  518.95  478.54  502.81    502.81   66,927,600\n",
              "2  Apr 01, 2021  529.93  563.56  499.00  513.47    513.47  111,573,300\n",
              "3  Mar 01, 2021  545.57  556.99  492.85  521.66    521.66   90,183,900\n",
              "4  Feb 01, 2021  536.79  566.65  518.28  538.85    538.85   61,902,300"
            ],
            "text/html": [
              "\n",
              "  <div id=\"df-e1479003-52ca-42f2-993c-bbc5e94f3652\" class=\"colab-df-container\">\n",
              "    <div>\n",
              "<style scoped>\n",
              "    .dataframe tbody tr th:only-of-type {\n",
              "        vertical-align: middle;\n",
              "    }\n",
              "\n",
              "    .dataframe tbody tr th {\n",
              "        vertical-align: top;\n",
              "    }\n",
              "\n",
              "    .dataframe thead th {\n",
              "        text-align: right;\n",
              "    }\n",
              "</style>\n",
              "<table border=\"1\" class=\"dataframe\">\n",
              "  <thead>\n",
              "    <tr style=\"text-align: right;\">\n",
              "      <th></th>\n",
              "      <th>Date</th>\n",
              "      <th>Open</th>\n",
              "      <th>High</th>\n",
              "      <th>Low</th>\n",
              "      <th>Close</th>\n",
              "      <th>Adj Close</th>\n",
              "      <th>Volume</th>\n",
              "    </tr>\n",
              "  </thead>\n",
              "  <tbody>\n",
              "    <tr>\n",
              "      <th>0</th>\n",
              "      <td>Jun 01, 2021</td>\n",
              "      <td>504.01</td>\n",
              "      <td>536.13</td>\n",
              "      <td>482.14</td>\n",
              "      <td>528.21</td>\n",
              "      <td>528.21</td>\n",
              "      <td>78,560,600</td>\n",
              "    </tr>\n",
              "    <tr>\n",
              "      <th>1</th>\n",
              "      <td>May 01, 2021</td>\n",
              "      <td>512.65</td>\n",
              "      <td>518.95</td>\n",
              "      <td>478.54</td>\n",
              "      <td>502.81</td>\n",
              "      <td>502.81</td>\n",
              "      <td>66,927,600</td>\n",
              "    </tr>\n",
              "    <tr>\n",
              "      <th>2</th>\n",
              "      <td>Apr 01, 2021</td>\n",
              "      <td>529.93</td>\n",
              "      <td>563.56</td>\n",
              "      <td>499.00</td>\n",
              "      <td>513.47</td>\n",
              "      <td>513.47</td>\n",
              "      <td>111,573,300</td>\n",
              "    </tr>\n",
              "    <tr>\n",
              "      <th>3</th>\n",
              "      <td>Mar 01, 2021</td>\n",
              "      <td>545.57</td>\n",
              "      <td>556.99</td>\n",
              "      <td>492.85</td>\n",
              "      <td>521.66</td>\n",
              "      <td>521.66</td>\n",
              "      <td>90,183,900</td>\n",
              "    </tr>\n",
              "    <tr>\n",
              "      <th>4</th>\n",
              "      <td>Feb 01, 2021</td>\n",
              "      <td>536.79</td>\n",
              "      <td>566.65</td>\n",
              "      <td>518.28</td>\n",
              "      <td>538.85</td>\n",
              "      <td>538.85</td>\n",
              "      <td>61,902,300</td>\n",
              "    </tr>\n",
              "  </tbody>\n",
              "</table>\n",
              "</div>\n",
              "    <div class=\"colab-df-buttons\">\n",
              "\n",
              "  <div class=\"colab-df-container\">\n",
              "    <button class=\"colab-df-convert\" onclick=\"convertToInteractive('df-e1479003-52ca-42f2-993c-bbc5e94f3652')\"\n",
              "            title=\"Convert this dataframe to an interactive table.\"\n",
              "            style=\"display:none;\">\n",
              "\n",
              "  <svg xmlns=\"http://www.w3.org/2000/svg\" height=\"24px\" viewBox=\"0 -960 960 960\">\n",
              "    <path d=\"M120-120v-720h720v720H120Zm60-500h600v-160H180v160Zm220 220h160v-160H400v160Zm0 220h160v-160H400v160ZM180-400h160v-160H180v160Zm440 0h160v-160H620v160ZM180-180h160v-160H180v160Zm440 0h160v-160H620v160Z\"/>\n",
              "  </svg>\n",
              "    </button>\n",
              "\n",
              "  <style>\n",
              "    .colab-df-container {\n",
              "      display:flex;\n",
              "      gap: 12px;\n",
              "    }\n",
              "\n",
              "    .colab-df-convert {\n",
              "      background-color: #E8F0FE;\n",
              "      border: none;\n",
              "      border-radius: 50%;\n",
              "      cursor: pointer;\n",
              "      display: none;\n",
              "      fill: #1967D2;\n",
              "      height: 32px;\n",
              "      padding: 0 0 0 0;\n",
              "      width: 32px;\n",
              "    }\n",
              "\n",
              "    .colab-df-convert:hover {\n",
              "      background-color: #E2EBFA;\n",
              "      box-shadow: 0px 1px 2px rgba(60, 64, 67, 0.3), 0px 1px 3px 1px rgba(60, 64, 67, 0.15);\n",
              "      fill: #174EA6;\n",
              "    }\n",
              "\n",
              "    .colab-df-buttons div {\n",
              "      margin-bottom: 4px;\n",
              "    }\n",
              "\n",
              "    [theme=dark] .colab-df-convert {\n",
              "      background-color: #3B4455;\n",
              "      fill: #D2E3FC;\n",
              "    }\n",
              "\n",
              "    [theme=dark] .colab-df-convert:hover {\n",
              "      background-color: #434B5C;\n",
              "      box-shadow: 0px 1px 3px 1px rgba(0, 0, 0, 0.15);\n",
              "      filter: drop-shadow(0px 1px 2px rgba(0, 0, 0, 0.3));\n",
              "      fill: #FFFFFF;\n",
              "    }\n",
              "  </style>\n",
              "\n",
              "    <script>\n",
              "      const buttonEl =\n",
              "        document.querySelector('#df-e1479003-52ca-42f2-993c-bbc5e94f3652 button.colab-df-convert');\n",
              "      buttonEl.style.display =\n",
              "        google.colab.kernel.accessAllowed ? 'block' : 'none';\n",
              "\n",
              "      async function convertToInteractive(key) {\n",
              "        const element = document.querySelector('#df-e1479003-52ca-42f2-993c-bbc5e94f3652');\n",
              "        const dataTable =\n",
              "          await google.colab.kernel.invokeFunction('convertToInteractive',\n",
              "                                                    [key], {});\n",
              "        if (!dataTable) return;\n",
              "\n",
              "        const docLinkHtml = 'Like what you see? Visit the ' +\n",
              "          '<a target=\"_blank\" href=https://colab.research.google.com/notebooks/data_table.ipynb>data table notebook</a>'\n",
              "          + ' to learn more about interactive tables.';\n",
              "        element.innerHTML = '';\n",
              "        dataTable['output_type'] = 'display_data';\n",
              "        await google.colab.output.renderOutput(dataTable, element);\n",
              "        const docLink = document.createElement('div');\n",
              "        docLink.innerHTML = docLinkHtml;\n",
              "        element.appendChild(docLink);\n",
              "      }\n",
              "    </script>\n",
              "  </div>\n",
              "\n",
              "\n",
              "<div id=\"df-c01fe262-0b3f-44c9-8d46-3d3710de793f\">\n",
              "  <button class=\"colab-df-quickchart\" onclick=\"quickchart('df-c01fe262-0b3f-44c9-8d46-3d3710de793f')\"\n",
              "            title=\"Suggest charts\"\n",
              "            style=\"display:none;\">\n",
              "\n",
              "<svg xmlns=\"http://www.w3.org/2000/svg\" height=\"24px\"viewBox=\"0 0 24 24\"\n",
              "     width=\"24px\">\n",
              "    <g>\n",
              "        <path d=\"M19 3H5c-1.1 0-2 .9-2 2v14c0 1.1.9 2 2 2h14c1.1 0 2-.9 2-2V5c0-1.1-.9-2-2-2zM9 17H7v-7h2v7zm4 0h-2V7h2v10zm4 0h-2v-4h2v4z\"/>\n",
              "    </g>\n",
              "</svg>\n",
              "  </button>\n",
              "\n",
              "<style>\n",
              "  .colab-df-quickchart {\n",
              "      --bg-color: #E8F0FE;\n",
              "      --fill-color: #1967D2;\n",
              "      --hover-bg-color: #E2EBFA;\n",
              "      --hover-fill-color: #174EA6;\n",
              "      --disabled-fill-color: #AAA;\n",
              "      --disabled-bg-color: #DDD;\n",
              "  }\n",
              "\n",
              "  [theme=dark] .colab-df-quickchart {\n",
              "      --bg-color: #3B4455;\n",
              "      --fill-color: #D2E3FC;\n",
              "      --hover-bg-color: #434B5C;\n",
              "      --hover-fill-color: #FFFFFF;\n",
              "      --disabled-bg-color: #3B4455;\n",
              "      --disabled-fill-color: #666;\n",
              "  }\n",
              "\n",
              "  .colab-df-quickchart {\n",
              "    background-color: var(--bg-color);\n",
              "    border: none;\n",
              "    border-radius: 50%;\n",
              "    cursor: pointer;\n",
              "    display: none;\n",
              "    fill: var(--fill-color);\n",
              "    height: 32px;\n",
              "    padding: 0;\n",
              "    width: 32px;\n",
              "  }\n",
              "\n",
              "  .colab-df-quickchart:hover {\n",
              "    background-color: var(--hover-bg-color);\n",
              "    box-shadow: 0 1px 2px rgba(60, 64, 67, 0.3), 0 1px 3px 1px rgba(60, 64, 67, 0.15);\n",
              "    fill: var(--button-hover-fill-color);\n",
              "  }\n",
              "\n",
              "  .colab-df-quickchart-complete:disabled,\n",
              "  .colab-df-quickchart-complete:disabled:hover {\n",
              "    background-color: var(--disabled-bg-color);\n",
              "    fill: var(--disabled-fill-color);\n",
              "    box-shadow: none;\n",
              "  }\n",
              "\n",
              "  .colab-df-spinner {\n",
              "    border: 2px solid var(--fill-color);\n",
              "    border-color: transparent;\n",
              "    border-bottom-color: var(--fill-color);\n",
              "    animation:\n",
              "      spin 1s steps(1) infinite;\n",
              "  }\n",
              "\n",
              "  @keyframes spin {\n",
              "    0% {\n",
              "      border-color: transparent;\n",
              "      border-bottom-color: var(--fill-color);\n",
              "      border-left-color: var(--fill-color);\n",
              "    }\n",
              "    20% {\n",
              "      border-color: transparent;\n",
              "      border-left-color: var(--fill-color);\n",
              "      border-top-color: var(--fill-color);\n",
              "    }\n",
              "    30% {\n",
              "      border-color: transparent;\n",
              "      border-left-color: var(--fill-color);\n",
              "      border-top-color: var(--fill-color);\n",
              "      border-right-color: var(--fill-color);\n",
              "    }\n",
              "    40% {\n",
              "      border-color: transparent;\n",
              "      border-right-color: var(--fill-color);\n",
              "      border-top-color: var(--fill-color);\n",
              "    }\n",
              "    60% {\n",
              "      border-color: transparent;\n",
              "      border-right-color: var(--fill-color);\n",
              "    }\n",
              "    80% {\n",
              "      border-color: transparent;\n",
              "      border-right-color: var(--fill-color);\n",
              "      border-bottom-color: var(--fill-color);\n",
              "    }\n",
              "    90% {\n",
              "      border-color: transparent;\n",
              "      border-bottom-color: var(--fill-color);\n",
              "    }\n",
              "  }\n",
              "</style>\n",
              "\n",
              "  <script>\n",
              "    async function quickchart(key) {\n",
              "      const quickchartButtonEl =\n",
              "        document.querySelector('#' + key + ' button');\n",
              "      quickchartButtonEl.disabled = true;  // To prevent multiple clicks.\n",
              "      quickchartButtonEl.classList.add('colab-df-spinner');\n",
              "      try {\n",
              "        const charts = await google.colab.kernel.invokeFunction(\n",
              "            'suggestCharts', [key], {});\n",
              "      } catch (error) {\n",
              "        console.error('Error during call to suggestCharts:', error);\n",
              "      }\n",
              "      quickchartButtonEl.classList.remove('colab-df-spinner');\n",
              "      quickchartButtonEl.classList.add('colab-df-quickchart-complete');\n",
              "    }\n",
              "    (() => {\n",
              "      let quickchartButtonEl =\n",
              "        document.querySelector('#df-c01fe262-0b3f-44c9-8d46-3d3710de793f button');\n",
              "      quickchartButtonEl.style.display =\n",
              "        google.colab.kernel.accessAllowed ? 'block' : 'none';\n",
              "    })();\n",
              "  </script>\n",
              "</div>\n",
              "\n",
              "    </div>\n",
              "  </div>\n"
            ],
            "application/vnd.google.colaboratory.intrinsic+json": {
              "type": "dataframe",
              "variable_name": "netflix_data",
              "summary": "{\n  \"name\": \"netflix_data\",\n  \"rows\": 70,\n  \"fields\": [\n    {\n      \"column\": \"Date\",\n      \"properties\": {\n        \"dtype\": \"object\",\n        \"num_unique_values\": 70,\n        \"samples\": [\n          \"Aug 01, 2019\",\n          \"Jun 01, 2021\",\n          \"May 01, 2017\"\n        ],\n        \"semantic_type\": \"\",\n        \"description\": \"\"\n      }\n    },\n    {\n      \"column\": \"Open\",\n      \"properties\": {\n        \"dtype\": \"string\",\n        \"num_unique_values\": 70,\n        \"samples\": [\n          \"324.25\",\n          \"504.01\",\n          \"151.91\"\n        ],\n        \"semantic_type\": \"\",\n        \"description\": \"\"\n      }\n    },\n    {\n      \"column\": \"High\",\n      \"properties\": {\n        \"dtype\": \"string\",\n        \"num_unique_values\": 70,\n        \"samples\": [\n          \"328.58\",\n          \"536.13\",\n          \"164.75\"\n        ],\n        \"semantic_type\": \"\",\n        \"description\": \"\"\n      }\n    },\n    {\n      \"column\": \"Low\",\n      \"properties\": {\n        \"dtype\": \"string\",\n        \"num_unique_values\": 70,\n        \"samples\": [\n          \"287.20\",\n          \"482.14\",\n          \"151.61\"\n        ],\n        \"semantic_type\": \"\",\n        \"description\": \"\"\n      }\n    },\n    {\n      \"column\": \"Close\",\n      \"properties\": {\n        \"dtype\": \"string\",\n        \"num_unique_values\": 70,\n        \"samples\": [\n          \"293.75\",\n          \"528.21\",\n          \"163.07\"\n        ],\n        \"semantic_type\": \"\",\n        \"description\": \"\"\n      }\n    },\n    {\n      \"column\": \"Adj Close\",\n      \"properties\": {\n        \"dtype\": \"string\",\n        \"num_unique_values\": 70,\n        \"samples\": [\n          \"293.75\",\n          \"528.21\",\n          \"163.07\"\n        ],\n        \"semantic_type\": \"\",\n        \"description\": \"\"\n      }\n    },\n    {\n      \"column\": \"Volume\",\n      \"properties\": {\n        \"dtype\": \"string\",\n        \"num_unique_values\": 70,\n        \"samples\": [\n          \"137,076,700\",\n          \"78,560,600\",\n          \"116,795,800\"\n        ],\n        \"semantic_type\": \"\",\n        \"description\": \"\"\n      }\n    }\n  ]\n}"
            }
          },
          "metadata": {},
          "execution_count": 17
        }
      ]
    },
    {
      "cell_type": "code",
      "source": [
        "read_html_pandas_data = pd.read_html(url)\n",
        "\n",
        "read_html_pandas_data = pd.read_html(str(soup))\n",
        "\n",
        "netflix_dataframe = read_html_pandas_data[0]\n",
        "\n",
        "netflix_dataframe.head()"
      ],
      "metadata": {
        "colab": {
          "base_uri": "https://localhost:8080/",
          "height": 206
        },
        "id": "zVtIzmvFJ5so",
        "outputId": "c9f5c67e-ae23-4239-afec-26f45df30dcd"
      },
      "execution_count": null,
      "outputs": [
        {
          "output_type": "execute_result",
          "data": {
            "text/plain": [
              "           Date    Open    High     Low  Close* Adj Close**     Volume\n",
              "0  Jun 01, 2021  504.01  536.13  482.14  528.21      528.21   78560600\n",
              "1  May 01, 2021  512.65  518.95  478.54  502.81      502.81   66927600\n",
              "2  Apr 01, 2021  529.93  563.56  499.00  513.47      513.47  111573300\n",
              "3  Mar 01, 2021  545.57  556.99  492.85  521.66      521.66   90183900\n",
              "4  Feb 01, 2021  536.79  566.65  518.28  538.85      538.85   61902300"
            ],
            "text/html": [
              "\n",
              "  <div id=\"df-eff9aa80-43c9-475b-af14-09f7d9e0dbca\" class=\"colab-df-container\">\n",
              "    <div>\n",
              "<style scoped>\n",
              "    .dataframe tbody tr th:only-of-type {\n",
              "        vertical-align: middle;\n",
              "    }\n",
              "\n",
              "    .dataframe tbody tr th {\n",
              "        vertical-align: top;\n",
              "    }\n",
              "\n",
              "    .dataframe thead th {\n",
              "        text-align: right;\n",
              "    }\n",
              "</style>\n",
              "<table border=\"1\" class=\"dataframe\">\n",
              "  <thead>\n",
              "    <tr style=\"text-align: right;\">\n",
              "      <th></th>\n",
              "      <th>Date</th>\n",
              "      <th>Open</th>\n",
              "      <th>High</th>\n",
              "      <th>Low</th>\n",
              "      <th>Close*</th>\n",
              "      <th>Adj Close**</th>\n",
              "      <th>Volume</th>\n",
              "    </tr>\n",
              "  </thead>\n",
              "  <tbody>\n",
              "    <tr>\n",
              "      <th>0</th>\n",
              "      <td>Jun 01, 2021</td>\n",
              "      <td>504.01</td>\n",
              "      <td>536.13</td>\n",
              "      <td>482.14</td>\n",
              "      <td>528.21</td>\n",
              "      <td>528.21</td>\n",
              "      <td>78560600</td>\n",
              "    </tr>\n",
              "    <tr>\n",
              "      <th>1</th>\n",
              "      <td>May 01, 2021</td>\n",
              "      <td>512.65</td>\n",
              "      <td>518.95</td>\n",
              "      <td>478.54</td>\n",
              "      <td>502.81</td>\n",
              "      <td>502.81</td>\n",
              "      <td>66927600</td>\n",
              "    </tr>\n",
              "    <tr>\n",
              "      <th>2</th>\n",
              "      <td>Apr 01, 2021</td>\n",
              "      <td>529.93</td>\n",
              "      <td>563.56</td>\n",
              "      <td>499.00</td>\n",
              "      <td>513.47</td>\n",
              "      <td>513.47</td>\n",
              "      <td>111573300</td>\n",
              "    </tr>\n",
              "    <tr>\n",
              "      <th>3</th>\n",
              "      <td>Mar 01, 2021</td>\n",
              "      <td>545.57</td>\n",
              "      <td>556.99</td>\n",
              "      <td>492.85</td>\n",
              "      <td>521.66</td>\n",
              "      <td>521.66</td>\n",
              "      <td>90183900</td>\n",
              "    </tr>\n",
              "    <tr>\n",
              "      <th>4</th>\n",
              "      <td>Feb 01, 2021</td>\n",
              "      <td>536.79</td>\n",
              "      <td>566.65</td>\n",
              "      <td>518.28</td>\n",
              "      <td>538.85</td>\n",
              "      <td>538.85</td>\n",
              "      <td>61902300</td>\n",
              "    </tr>\n",
              "  </tbody>\n",
              "</table>\n",
              "</div>\n",
              "    <div class=\"colab-df-buttons\">\n",
              "\n",
              "  <div class=\"colab-df-container\">\n",
              "    <button class=\"colab-df-convert\" onclick=\"convertToInteractive('df-eff9aa80-43c9-475b-af14-09f7d9e0dbca')\"\n",
              "            title=\"Convert this dataframe to an interactive table.\"\n",
              "            style=\"display:none;\">\n",
              "\n",
              "  <svg xmlns=\"http://www.w3.org/2000/svg\" height=\"24px\" viewBox=\"0 -960 960 960\">\n",
              "    <path d=\"M120-120v-720h720v720H120Zm60-500h600v-160H180v160Zm220 220h160v-160H400v160Zm0 220h160v-160H400v160ZM180-400h160v-160H180v160Zm440 0h160v-160H620v160ZM180-180h160v-160H180v160Zm440 0h160v-160H620v160Z\"/>\n",
              "  </svg>\n",
              "    </button>\n",
              "\n",
              "  <style>\n",
              "    .colab-df-container {\n",
              "      display:flex;\n",
              "      gap: 12px;\n",
              "    }\n",
              "\n",
              "    .colab-df-convert {\n",
              "      background-color: #E8F0FE;\n",
              "      border: none;\n",
              "      border-radius: 50%;\n",
              "      cursor: pointer;\n",
              "      display: none;\n",
              "      fill: #1967D2;\n",
              "      height: 32px;\n",
              "      padding: 0 0 0 0;\n",
              "      width: 32px;\n",
              "    }\n",
              "\n",
              "    .colab-df-convert:hover {\n",
              "      background-color: #E2EBFA;\n",
              "      box-shadow: 0px 1px 2px rgba(60, 64, 67, 0.3), 0px 1px 3px 1px rgba(60, 64, 67, 0.15);\n",
              "      fill: #174EA6;\n",
              "    }\n",
              "\n",
              "    .colab-df-buttons div {\n",
              "      margin-bottom: 4px;\n",
              "    }\n",
              "\n",
              "    [theme=dark] .colab-df-convert {\n",
              "      background-color: #3B4455;\n",
              "      fill: #D2E3FC;\n",
              "    }\n",
              "\n",
              "    [theme=dark] .colab-df-convert:hover {\n",
              "      background-color: #434B5C;\n",
              "      box-shadow: 0px 1px 3px 1px rgba(0, 0, 0, 0.15);\n",
              "      filter: drop-shadow(0px 1px 2px rgba(0, 0, 0, 0.3));\n",
              "      fill: #FFFFFF;\n",
              "    }\n",
              "  </style>\n",
              "\n",
              "    <script>\n",
              "      const buttonEl =\n",
              "        document.querySelector('#df-eff9aa80-43c9-475b-af14-09f7d9e0dbca button.colab-df-convert');\n",
              "      buttonEl.style.display =\n",
              "        google.colab.kernel.accessAllowed ? 'block' : 'none';\n",
              "\n",
              "      async function convertToInteractive(key) {\n",
              "        const element = document.querySelector('#df-eff9aa80-43c9-475b-af14-09f7d9e0dbca');\n",
              "        const dataTable =\n",
              "          await google.colab.kernel.invokeFunction('convertToInteractive',\n",
              "                                                    [key], {});\n",
              "        if (!dataTable) return;\n",
              "\n",
              "        const docLinkHtml = 'Like what you see? Visit the ' +\n",
              "          '<a target=\"_blank\" href=https://colab.research.google.com/notebooks/data_table.ipynb>data table notebook</a>'\n",
              "          + ' to learn more about interactive tables.';\n",
              "        element.innerHTML = '';\n",
              "        dataTable['output_type'] = 'display_data';\n",
              "        await google.colab.output.renderOutput(dataTable, element);\n",
              "        const docLink = document.createElement('div');\n",
              "        docLink.innerHTML = docLinkHtml;\n",
              "        element.appendChild(docLink);\n",
              "      }\n",
              "    </script>\n",
              "  </div>\n",
              "\n",
              "\n",
              "<div id=\"df-462ded8d-8d1b-458b-a3b7-69a0ec8c55f8\">\n",
              "  <button class=\"colab-df-quickchart\" onclick=\"quickchart('df-462ded8d-8d1b-458b-a3b7-69a0ec8c55f8')\"\n",
              "            title=\"Suggest charts\"\n",
              "            style=\"display:none;\">\n",
              "\n",
              "<svg xmlns=\"http://www.w3.org/2000/svg\" height=\"24px\"viewBox=\"0 0 24 24\"\n",
              "     width=\"24px\">\n",
              "    <g>\n",
              "        <path d=\"M19 3H5c-1.1 0-2 .9-2 2v14c0 1.1.9 2 2 2h14c1.1 0 2-.9 2-2V5c0-1.1-.9-2-2-2zM9 17H7v-7h2v7zm4 0h-2V7h2v10zm4 0h-2v-4h2v4z\"/>\n",
              "    </g>\n",
              "</svg>\n",
              "  </button>\n",
              "\n",
              "<style>\n",
              "  .colab-df-quickchart {\n",
              "      --bg-color: #E8F0FE;\n",
              "      --fill-color: #1967D2;\n",
              "      --hover-bg-color: #E2EBFA;\n",
              "      --hover-fill-color: #174EA6;\n",
              "      --disabled-fill-color: #AAA;\n",
              "      --disabled-bg-color: #DDD;\n",
              "  }\n",
              "\n",
              "  [theme=dark] .colab-df-quickchart {\n",
              "      --bg-color: #3B4455;\n",
              "      --fill-color: #D2E3FC;\n",
              "      --hover-bg-color: #434B5C;\n",
              "      --hover-fill-color: #FFFFFF;\n",
              "      --disabled-bg-color: #3B4455;\n",
              "      --disabled-fill-color: #666;\n",
              "  }\n",
              "\n",
              "  .colab-df-quickchart {\n",
              "    background-color: var(--bg-color);\n",
              "    border: none;\n",
              "    border-radius: 50%;\n",
              "    cursor: pointer;\n",
              "    display: none;\n",
              "    fill: var(--fill-color);\n",
              "    height: 32px;\n",
              "    padding: 0;\n",
              "    width: 32px;\n",
              "  }\n",
              "\n",
              "  .colab-df-quickchart:hover {\n",
              "    background-color: var(--hover-bg-color);\n",
              "    box-shadow: 0 1px 2px rgba(60, 64, 67, 0.3), 0 1px 3px 1px rgba(60, 64, 67, 0.15);\n",
              "    fill: var(--button-hover-fill-color);\n",
              "  }\n",
              "\n",
              "  .colab-df-quickchart-complete:disabled,\n",
              "  .colab-df-quickchart-complete:disabled:hover {\n",
              "    background-color: var(--disabled-bg-color);\n",
              "    fill: var(--disabled-fill-color);\n",
              "    box-shadow: none;\n",
              "  }\n",
              "\n",
              "  .colab-df-spinner {\n",
              "    border: 2px solid var(--fill-color);\n",
              "    border-color: transparent;\n",
              "    border-bottom-color: var(--fill-color);\n",
              "    animation:\n",
              "      spin 1s steps(1) infinite;\n",
              "  }\n",
              "\n",
              "  @keyframes spin {\n",
              "    0% {\n",
              "      border-color: transparent;\n",
              "      border-bottom-color: var(--fill-color);\n",
              "      border-left-color: var(--fill-color);\n",
              "    }\n",
              "    20% {\n",
              "      border-color: transparent;\n",
              "      border-left-color: var(--fill-color);\n",
              "      border-top-color: var(--fill-color);\n",
              "    }\n",
              "    30% {\n",
              "      border-color: transparent;\n",
              "      border-left-color: var(--fill-color);\n",
              "      border-top-color: var(--fill-color);\n",
              "      border-right-color: var(--fill-color);\n",
              "    }\n",
              "    40% {\n",
              "      border-color: transparent;\n",
              "      border-right-color: var(--fill-color);\n",
              "      border-top-color: var(--fill-color);\n",
              "    }\n",
              "    60% {\n",
              "      border-color: transparent;\n",
              "      border-right-color: var(--fill-color);\n",
              "    }\n",
              "    80% {\n",
              "      border-color: transparent;\n",
              "      border-right-color: var(--fill-color);\n",
              "      border-bottom-color: var(--fill-color);\n",
              "    }\n",
              "    90% {\n",
              "      border-color: transparent;\n",
              "      border-bottom-color: var(--fill-color);\n",
              "    }\n",
              "  }\n",
              "</style>\n",
              "\n",
              "  <script>\n",
              "    async function quickchart(key) {\n",
              "      const quickchartButtonEl =\n",
              "        document.querySelector('#' + key + ' button');\n",
              "      quickchartButtonEl.disabled = true;  // To prevent multiple clicks.\n",
              "      quickchartButtonEl.classList.add('colab-df-spinner');\n",
              "      try {\n",
              "        const charts = await google.colab.kernel.invokeFunction(\n",
              "            'suggestCharts', [key], {});\n",
              "      } catch (error) {\n",
              "        console.error('Error during call to suggestCharts:', error);\n",
              "      }\n",
              "      quickchartButtonEl.classList.remove('colab-df-spinner');\n",
              "      quickchartButtonEl.classList.add('colab-df-quickchart-complete');\n",
              "    }\n",
              "    (() => {\n",
              "      let quickchartButtonEl =\n",
              "        document.querySelector('#df-462ded8d-8d1b-458b-a3b7-69a0ec8c55f8 button');\n",
              "      quickchartButtonEl.style.display =\n",
              "        google.colab.kernel.accessAllowed ? 'block' : 'none';\n",
              "    })();\n",
              "  </script>\n",
              "</div>\n",
              "\n",
              "    </div>\n",
              "  </div>\n"
            ],
            "application/vnd.google.colaboratory.intrinsic+json": {
              "type": "dataframe",
              "variable_name": "netflix_dataframe",
              "summary": "{\n  \"name\": \"netflix_dataframe\",\n  \"rows\": 71,\n  \"fields\": [\n    {\n      \"column\": \"Date\",\n      \"properties\": {\n        \"dtype\": \"string\",\n        \"num_unique_values\": 71,\n        \"samples\": [\n          \"Aug 01, 2019\",\n          \"Jun 01, 2021\",\n          \"May 01, 2017\"\n        ],\n        \"semantic_type\": \"\",\n        \"description\": \"\"\n      }\n    },\n    {\n      \"column\": \"Open\",\n      \"properties\": {\n        \"dtype\": \"string\",\n        \"num_unique_values\": 71,\n        \"samples\": [\n          \"324.25\",\n          \"504.01\",\n          \"151.91\"\n        ],\n        \"semantic_type\": \"\",\n        \"description\": \"\"\n      }\n    },\n    {\n      \"column\": \"High\",\n      \"properties\": {\n        \"dtype\": \"string\",\n        \"num_unique_values\": 71,\n        \"samples\": [\n          \"328.58\",\n          \"536.13\",\n          \"164.75\"\n        ],\n        \"semantic_type\": \"\",\n        \"description\": \"\"\n      }\n    },\n    {\n      \"column\": \"Low\",\n      \"properties\": {\n        \"dtype\": \"string\",\n        \"num_unique_values\": 71,\n        \"samples\": [\n          \"287.20\",\n          \"482.14\",\n          \"151.61\"\n        ],\n        \"semantic_type\": \"\",\n        \"description\": \"\"\n      }\n    },\n    {\n      \"column\": \"Close*\",\n      \"properties\": {\n        \"dtype\": \"string\",\n        \"num_unique_values\": 71,\n        \"samples\": [\n          \"293.75\",\n          \"528.21\",\n          \"163.07\"\n        ],\n        \"semantic_type\": \"\",\n        \"description\": \"\"\n      }\n    },\n    {\n      \"column\": \"Adj Close**\",\n      \"properties\": {\n        \"dtype\": \"string\",\n        \"num_unique_values\": 71,\n        \"samples\": [\n          \"293.75\",\n          \"528.21\",\n          \"163.07\"\n        ],\n        \"semantic_type\": \"\",\n        \"description\": \"\"\n      }\n    },\n    {\n      \"column\": \"Volume\",\n      \"properties\": {\n        \"dtype\": \"string\",\n        \"num_unique_values\": 71,\n        \"samples\": [\n          \"137076700\",\n          \"78560600\",\n          \"116795800\"\n        ],\n        \"semantic_type\": \"\",\n        \"description\": \"\"\n      }\n    }\n  ]\n}"
            }
          },
          "metadata": {},
          "execution_count": 18
        }
      ]
    },
    {
      "cell_type": "markdown",
      "source": [
        "# **Extracting Stock Data Using a Web Scraping**\n",
        "1. Extracting data using BeautifulSoup\n",
        "\n",
        "    Download the web page Using Requests Library\n",
        "\n",
        "    Parse HTML on a web page using BeautifulSoup\n",
        "\n",
        "    Extract data and duild a data frame\n",
        "2. Extracting data using pandas\n",
        "\n",
        "3. Exercise"
      ],
      "metadata": {
        "id": "TDby3lFEGUca"
      }
    },
    {
      "cell_type": "markdown",
      "source": [
        "We will extract Netflix stock data https://cf-courses-data.s3.us.cloud-object-storage.appdomain.cloud/IBMDeveloperSkillsNetwork-PY0220EN-SkillsNetwork/labs/project/netflix_data_webpage.html."
      ],
      "metadata": {
        "id": "pXOkyHXXHNnl"
      }
    },
    {
      "cell_type": "code",
      "source": [
        "import pandas as pd\n",
        "import requests\n",
        "from bs4 import BeautifulSoup"
      ],
      "metadata": {
        "id": "Bg4rl3CqGDIo"
      },
      "execution_count": null,
      "outputs": []
    },
    {
      "cell_type": "code",
      "source": [
        "import warnings\n",
        "# Ignore all warnings\n",
        "warnings.filterwarnings(\"ignore\", category=FutureWarning)"
      ],
      "metadata": {
        "id": "beCDfp3aGHIT"
      },
      "execution_count": null,
      "outputs": []
    },
    {
      "cell_type": "code",
      "source": [
        "url = \"https://cf-courses-data.s3.us.cloud-object-storage.appdomain.cloud/IBMDeveloperSkillsNetwork-PY0220EN-SkillsNetwork/labs/project/netflix_data_webpage.html\""
      ],
      "metadata": {
        "id": "OTc4PHZIGI-R"
      },
      "execution_count": null,
      "outputs": []
    },
    {
      "cell_type": "code",
      "source": [
        "data = requests.get(url).text\n",
        "soup = BeautifulSoup(data, 'html.parser')\n",
        "\n",
        "netflix_data = pd.DataFrame(columns=[\"Date\", \"Open\", \"High\", \"Low\", \"Close\", \"Volume\"])"
      ],
      "metadata": {
        "id": "7AT_1WmNGKTv"
      },
      "execution_count": null,
      "outputs": []
    },
    {
      "cell_type": "code",
      "source": [
        "# Loop through each row and extract column values\n",
        "for row in soup.find(\"tbody\").find_all('tr'):\n",
        "    col = row.find_all(\"td\")\n",
        "    date, Open, high, low, close, adj_close, volume = [c.text for c in col]\n",
        "\n",
        "    # Append data to the DataFrame using concat\n",
        "    netflix_data = pd.concat([netflix_data, pd.DataFrame({\"Date\": [date], \"Open\": [Open], \"High\": [high], \"Low\": [low], \"Close\": [close], \"Volume\": [volume]})], ignore_index=True)"
      ],
      "metadata": {
        "id": "Q9NINtguGMgH"
      },
      "execution_count": null,
      "outputs": []
    },
    {
      "cell_type": "code",
      "source": [
        "netflix_data.head()"
      ],
      "metadata": {
        "colab": {
          "base_uri": "https://localhost:8080/",
          "height": 206
        },
        "id": "JSlekORWGN9A",
        "outputId": "91f80559-a436-490c-8da3-5298fd32cabc"
      },
      "execution_count": null,
      "outputs": [
        {
          "output_type": "execute_result",
          "data": {
            "text/plain": [
              "           Date    Open    High     Low   Close       Volume\n",
              "0  Jun 01, 2021  504.01  536.13  482.14  528.21   78,560,600\n",
              "1  May 01, 2021  512.65  518.95  478.54  502.81   66,927,600\n",
              "2  Apr 01, 2021  529.93  563.56  499.00  513.47  111,573,300\n",
              "3  Mar 01, 2021  545.57  556.99  492.85  521.66   90,183,900\n",
              "4  Feb 01, 2021  536.79  566.65  518.28  538.85   61,902,300"
            ],
            "text/html": [
              "\n",
              "  <div id=\"df-339567a3-03c1-49ae-9b8a-217a2193b61d\" class=\"colab-df-container\">\n",
              "    <div>\n",
              "<style scoped>\n",
              "    .dataframe tbody tr th:only-of-type {\n",
              "        vertical-align: middle;\n",
              "    }\n",
              "\n",
              "    .dataframe tbody tr th {\n",
              "        vertical-align: top;\n",
              "    }\n",
              "\n",
              "    .dataframe thead th {\n",
              "        text-align: right;\n",
              "    }\n",
              "</style>\n",
              "<table border=\"1\" class=\"dataframe\">\n",
              "  <thead>\n",
              "    <tr style=\"text-align: right;\">\n",
              "      <th></th>\n",
              "      <th>Date</th>\n",
              "      <th>Open</th>\n",
              "      <th>High</th>\n",
              "      <th>Low</th>\n",
              "      <th>Close</th>\n",
              "      <th>Volume</th>\n",
              "    </tr>\n",
              "  </thead>\n",
              "  <tbody>\n",
              "    <tr>\n",
              "      <th>0</th>\n",
              "      <td>Jun 01, 2021</td>\n",
              "      <td>504.01</td>\n",
              "      <td>536.13</td>\n",
              "      <td>482.14</td>\n",
              "      <td>528.21</td>\n",
              "      <td>78,560,600</td>\n",
              "    </tr>\n",
              "    <tr>\n",
              "      <th>1</th>\n",
              "      <td>May 01, 2021</td>\n",
              "      <td>512.65</td>\n",
              "      <td>518.95</td>\n",
              "      <td>478.54</td>\n",
              "      <td>502.81</td>\n",
              "      <td>66,927,600</td>\n",
              "    </tr>\n",
              "    <tr>\n",
              "      <th>2</th>\n",
              "      <td>Apr 01, 2021</td>\n",
              "      <td>529.93</td>\n",
              "      <td>563.56</td>\n",
              "      <td>499.00</td>\n",
              "      <td>513.47</td>\n",
              "      <td>111,573,300</td>\n",
              "    </tr>\n",
              "    <tr>\n",
              "      <th>3</th>\n",
              "      <td>Mar 01, 2021</td>\n",
              "      <td>545.57</td>\n",
              "      <td>556.99</td>\n",
              "      <td>492.85</td>\n",
              "      <td>521.66</td>\n",
              "      <td>90,183,900</td>\n",
              "    </tr>\n",
              "    <tr>\n",
              "      <th>4</th>\n",
              "      <td>Feb 01, 2021</td>\n",
              "      <td>536.79</td>\n",
              "      <td>566.65</td>\n",
              "      <td>518.28</td>\n",
              "      <td>538.85</td>\n",
              "      <td>61,902,300</td>\n",
              "    </tr>\n",
              "  </tbody>\n",
              "</table>\n",
              "</div>\n",
              "    <div class=\"colab-df-buttons\">\n",
              "\n",
              "  <div class=\"colab-df-container\">\n",
              "    <button class=\"colab-df-convert\" onclick=\"convertToInteractive('df-339567a3-03c1-49ae-9b8a-217a2193b61d')\"\n",
              "            title=\"Convert this dataframe to an interactive table.\"\n",
              "            style=\"display:none;\">\n",
              "\n",
              "  <svg xmlns=\"http://www.w3.org/2000/svg\" height=\"24px\" viewBox=\"0 -960 960 960\">\n",
              "    <path d=\"M120-120v-720h720v720H120Zm60-500h600v-160H180v160Zm220 220h160v-160H400v160Zm0 220h160v-160H400v160ZM180-400h160v-160H180v160Zm440 0h160v-160H620v160ZM180-180h160v-160H180v160Zm440 0h160v-160H620v160Z\"/>\n",
              "  </svg>\n",
              "    </button>\n",
              "\n",
              "  <style>\n",
              "    .colab-df-container {\n",
              "      display:flex;\n",
              "      gap: 12px;\n",
              "    }\n",
              "\n",
              "    .colab-df-convert {\n",
              "      background-color: #E8F0FE;\n",
              "      border: none;\n",
              "      border-radius: 50%;\n",
              "      cursor: pointer;\n",
              "      display: none;\n",
              "      fill: #1967D2;\n",
              "      height: 32px;\n",
              "      padding: 0 0 0 0;\n",
              "      width: 32px;\n",
              "    }\n",
              "\n",
              "    .colab-df-convert:hover {\n",
              "      background-color: #E2EBFA;\n",
              "      box-shadow: 0px 1px 2px rgba(60, 64, 67, 0.3), 0px 1px 3px 1px rgba(60, 64, 67, 0.15);\n",
              "      fill: #174EA6;\n",
              "    }\n",
              "\n",
              "    .colab-df-buttons div {\n",
              "      margin-bottom: 4px;\n",
              "    }\n",
              "\n",
              "    [theme=dark] .colab-df-convert {\n",
              "      background-color: #3B4455;\n",
              "      fill: #D2E3FC;\n",
              "    }\n",
              "\n",
              "    [theme=dark] .colab-df-convert:hover {\n",
              "      background-color: #434B5C;\n",
              "      box-shadow: 0px 1px 3px 1px rgba(0, 0, 0, 0.15);\n",
              "      filter: drop-shadow(0px 1px 2px rgba(0, 0, 0, 0.3));\n",
              "      fill: #FFFFFF;\n",
              "    }\n",
              "  </style>\n",
              "\n",
              "    <script>\n",
              "      const buttonEl =\n",
              "        document.querySelector('#df-339567a3-03c1-49ae-9b8a-217a2193b61d button.colab-df-convert');\n",
              "      buttonEl.style.display =\n",
              "        google.colab.kernel.accessAllowed ? 'block' : 'none';\n",
              "\n",
              "      async function convertToInteractive(key) {\n",
              "        const element = document.querySelector('#df-339567a3-03c1-49ae-9b8a-217a2193b61d');\n",
              "        const dataTable =\n",
              "          await google.colab.kernel.invokeFunction('convertToInteractive',\n",
              "                                                    [key], {});\n",
              "        if (!dataTable) return;\n",
              "\n",
              "        const docLinkHtml = 'Like what you see? Visit the ' +\n",
              "          '<a target=\"_blank\" href=https://colab.research.google.com/notebooks/data_table.ipynb>data table notebook</a>'\n",
              "          + ' to learn more about interactive tables.';\n",
              "        element.innerHTML = '';\n",
              "        dataTable['output_type'] = 'display_data';\n",
              "        await google.colab.output.renderOutput(dataTable, element);\n",
              "        const docLink = document.createElement('div');\n",
              "        docLink.innerHTML = docLinkHtml;\n",
              "        element.appendChild(docLink);\n",
              "      }\n",
              "    </script>\n",
              "  </div>\n",
              "\n",
              "\n",
              "<div id=\"df-36934b5a-0e28-4f3f-b690-44dc06b8fb4d\">\n",
              "  <button class=\"colab-df-quickchart\" onclick=\"quickchart('df-36934b5a-0e28-4f3f-b690-44dc06b8fb4d')\"\n",
              "            title=\"Suggest charts\"\n",
              "            style=\"display:none;\">\n",
              "\n",
              "<svg xmlns=\"http://www.w3.org/2000/svg\" height=\"24px\"viewBox=\"0 0 24 24\"\n",
              "     width=\"24px\">\n",
              "    <g>\n",
              "        <path d=\"M19 3H5c-1.1 0-2 .9-2 2v14c0 1.1.9 2 2 2h14c1.1 0 2-.9 2-2V5c0-1.1-.9-2-2-2zM9 17H7v-7h2v7zm4 0h-2V7h2v10zm4 0h-2v-4h2v4z\"/>\n",
              "    </g>\n",
              "</svg>\n",
              "  </button>\n",
              "\n",
              "<style>\n",
              "  .colab-df-quickchart {\n",
              "      --bg-color: #E8F0FE;\n",
              "      --fill-color: #1967D2;\n",
              "      --hover-bg-color: #E2EBFA;\n",
              "      --hover-fill-color: #174EA6;\n",
              "      --disabled-fill-color: #AAA;\n",
              "      --disabled-bg-color: #DDD;\n",
              "  }\n",
              "\n",
              "  [theme=dark] .colab-df-quickchart {\n",
              "      --bg-color: #3B4455;\n",
              "      --fill-color: #D2E3FC;\n",
              "      --hover-bg-color: #434B5C;\n",
              "      --hover-fill-color: #FFFFFF;\n",
              "      --disabled-bg-color: #3B4455;\n",
              "      --disabled-fill-color: #666;\n",
              "  }\n",
              "\n",
              "  .colab-df-quickchart {\n",
              "    background-color: var(--bg-color);\n",
              "    border: none;\n",
              "    border-radius: 50%;\n",
              "    cursor: pointer;\n",
              "    display: none;\n",
              "    fill: var(--fill-color);\n",
              "    height: 32px;\n",
              "    padding: 0;\n",
              "    width: 32px;\n",
              "  }\n",
              "\n",
              "  .colab-df-quickchart:hover {\n",
              "    background-color: var(--hover-bg-color);\n",
              "    box-shadow: 0 1px 2px rgba(60, 64, 67, 0.3), 0 1px 3px 1px rgba(60, 64, 67, 0.15);\n",
              "    fill: var(--button-hover-fill-color);\n",
              "  }\n",
              "\n",
              "  .colab-df-quickchart-complete:disabled,\n",
              "  .colab-df-quickchart-complete:disabled:hover {\n",
              "    background-color: var(--disabled-bg-color);\n",
              "    fill: var(--disabled-fill-color);\n",
              "    box-shadow: none;\n",
              "  }\n",
              "\n",
              "  .colab-df-spinner {\n",
              "    border: 2px solid var(--fill-color);\n",
              "    border-color: transparent;\n",
              "    border-bottom-color: var(--fill-color);\n",
              "    animation:\n",
              "      spin 1s steps(1) infinite;\n",
              "  }\n",
              "\n",
              "  @keyframes spin {\n",
              "    0% {\n",
              "      border-color: transparent;\n",
              "      border-bottom-color: var(--fill-color);\n",
              "      border-left-color: var(--fill-color);\n",
              "    }\n",
              "    20% {\n",
              "      border-color: transparent;\n",
              "      border-left-color: var(--fill-color);\n",
              "      border-top-color: var(--fill-color);\n",
              "    }\n",
              "    30% {\n",
              "      border-color: transparent;\n",
              "      border-left-color: var(--fill-color);\n",
              "      border-top-color: var(--fill-color);\n",
              "      border-right-color: var(--fill-color);\n",
              "    }\n",
              "    40% {\n",
              "      border-color: transparent;\n",
              "      border-right-color: var(--fill-color);\n",
              "      border-top-color: var(--fill-color);\n",
              "    }\n",
              "    60% {\n",
              "      border-color: transparent;\n",
              "      border-right-color: var(--fill-color);\n",
              "    }\n",
              "    80% {\n",
              "      border-color: transparent;\n",
              "      border-right-color: var(--fill-color);\n",
              "      border-bottom-color: var(--fill-color);\n",
              "    }\n",
              "    90% {\n",
              "      border-color: transparent;\n",
              "      border-bottom-color: var(--fill-color);\n",
              "    }\n",
              "  }\n",
              "</style>\n",
              "\n",
              "  <script>\n",
              "    async function quickchart(key) {\n",
              "      const quickchartButtonEl =\n",
              "        document.querySelector('#' + key + ' button');\n",
              "      quickchartButtonEl.disabled = true;  // To prevent multiple clicks.\n",
              "      quickchartButtonEl.classList.add('colab-df-spinner');\n",
              "      try {\n",
              "        const charts = await google.colab.kernel.invokeFunction(\n",
              "            'suggestCharts', [key], {});\n",
              "      } catch (error) {\n",
              "        console.error('Error during call to suggestCharts:', error);\n",
              "      }\n",
              "      quickchartButtonEl.classList.remove('colab-df-spinner');\n",
              "      quickchartButtonEl.classList.add('colab-df-quickchart-complete');\n",
              "    }\n",
              "    (() => {\n",
              "      let quickchartButtonEl =\n",
              "        document.querySelector('#df-36934b5a-0e28-4f3f-b690-44dc06b8fb4d button');\n",
              "      quickchartButtonEl.style.display =\n",
              "        google.colab.kernel.accessAllowed ? 'block' : 'none';\n",
              "    })();\n",
              "  </script>\n",
              "</div>\n",
              "\n",
              "    </div>\n",
              "  </div>\n"
            ],
            "application/vnd.google.colaboratory.intrinsic+json": {
              "type": "dataframe",
              "variable_name": "netflix_data",
              "summary": "{\n  \"name\": \"netflix_data\",\n  \"rows\": 70,\n  \"fields\": [\n    {\n      \"column\": \"Date\",\n      \"properties\": {\n        \"dtype\": \"object\",\n        \"num_unique_values\": 70,\n        \"samples\": [\n          \"Aug 01, 2019\",\n          \"Jun 01, 2021\",\n          \"May 01, 2017\"\n        ],\n        \"semantic_type\": \"\",\n        \"description\": \"\"\n      }\n    },\n    {\n      \"column\": \"Open\",\n      \"properties\": {\n        \"dtype\": \"string\",\n        \"num_unique_values\": 70,\n        \"samples\": [\n          \"324.25\",\n          \"504.01\",\n          \"151.91\"\n        ],\n        \"semantic_type\": \"\",\n        \"description\": \"\"\n      }\n    },\n    {\n      \"column\": \"High\",\n      \"properties\": {\n        \"dtype\": \"string\",\n        \"num_unique_values\": 70,\n        \"samples\": [\n          \"328.58\",\n          \"536.13\",\n          \"164.75\"\n        ],\n        \"semantic_type\": \"\",\n        \"description\": \"\"\n      }\n    },\n    {\n      \"column\": \"Low\",\n      \"properties\": {\n        \"dtype\": \"string\",\n        \"num_unique_values\": 70,\n        \"samples\": [\n          \"287.20\",\n          \"482.14\",\n          \"151.61\"\n        ],\n        \"semantic_type\": \"\",\n        \"description\": \"\"\n      }\n    },\n    {\n      \"column\": \"Close\",\n      \"properties\": {\n        \"dtype\": \"string\",\n        \"num_unique_values\": 70,\n        \"samples\": [\n          \"293.75\",\n          \"528.21\",\n          \"163.07\"\n        ],\n        \"semantic_type\": \"\",\n        \"description\": \"\"\n      }\n    },\n    {\n      \"column\": \"Volume\",\n      \"properties\": {\n        \"dtype\": \"string\",\n        \"num_unique_values\": 70,\n        \"samples\": [\n          \"137,076,700\",\n          \"78,560,600\",\n          \"116,795,800\"\n        ],\n        \"semantic_type\": \"\",\n        \"description\": \"\"\n      }\n    }\n  ]\n}"
            }
          },
          "metadata": {},
          "execution_count": 25
        }
      ]
    },
    {
      "cell_type": "markdown",
      "source": [
        "# **Question 1: Use `yfinance` to Extract Stock Data**\n",
        "\n",
        "Reset the index, save, and display the first five rows of the `tesla_data` dataframe using the `head` function."
      ],
      "metadata": {
        "id": "NrWYinEyBCwo"
      }
    },
    {
      "cell_type": "code",
      "source": [
        "import yfinance as yf"
      ],
      "metadata": {
        "id": "dYB97jTI-gBW"
      },
      "execution_count": null,
      "outputs": []
    },
    {
      "cell_type": "code",
      "source": [
        "tesla_data = yf.Ticker(\"TSLA\").history(period=\"1mo\")\n",
        "\n",
        "tesla_data.reset_index(inplace=True)\n",
        "\n",
        "tesla_data.to_csv('tesla_stock_data.csv', index=False)"
      ],
      "metadata": {
        "id": "JN3Z0vDf-iBv"
      },
      "execution_count": null,
      "outputs": []
    },
    {
      "cell_type": "code",
      "source": [
        "print(tesla_data.head())"
      ],
      "metadata": {
        "colab": {
          "base_uri": "https://localhost:8080/"
        },
        "id": "CP-fZf5F-kT2",
        "outputId": "ae367602-555e-4a71-add7-46de09fa46eb"
      },
      "execution_count": null,
      "outputs": [
        {
          "output_type": "stream",
          "name": "stdout",
          "text": [
            "                       Date        Open        High         Low       Close  \\\n",
            "0 2024-04-22 00:00:00-04:00  140.559998  144.440002  138.800003  142.050003   \n",
            "1 2024-04-23 00:00:00-04:00  143.330002  147.259995  141.110001  144.679993   \n",
            "2 2024-04-24 00:00:00-04:00  162.839996  167.970001  157.509995  162.130005   \n",
            "3 2024-04-25 00:00:00-04:00  158.960007  170.880005  158.360001  170.179993   \n",
            "4 2024-04-26 00:00:00-04:00  168.850006  172.119995  166.369995  168.289993   \n",
            "\n",
            "      Volume  Dividends  Stock Splits  \n",
            "0  107097600        0.0           0.0  \n",
            "1  124545100        0.0           0.0  \n",
            "2  181178000        0.0           0.0  \n",
            "3  126427500        0.0           0.0  \n",
            "4  109815700        0.0           0.0  \n"
          ]
        }
      ]
    },
    {
      "cell_type": "markdown",
      "source": [
        "# **Question 2: Use Webscraping to Extract Tesla Revenue Data**\n",
        "\n",
        "Display the last five rows of the `tesla_revenue` dataframe using the `tail` function.\n"
      ],
      "metadata": {
        "id": "mEhUERpgBP_C"
      }
    },
    {
      "cell_type": "code",
      "source": [
        "import pandas as pd\n",
        "import requests\n",
        "from bs4 import BeautifulSoup\n",
        "\n",
        "# Step 1: Define the URL to scrape Tesla's revenue data\n",
        "url = \"https://www.macrotrends.net/stocks/charts/TSLA/tesla/revenue\"\n",
        "\n",
        "# Step 2: Get the HTML content from the URL\n",
        "html_data = requests.get(url).text\n",
        "\n",
        "# Step 3: Parse the HTML content using BeautifulSoup\n",
        "soup = BeautifulSoup(html_data, \"html5lib\")\n",
        "\n",
        "# Step 4: Find all tables in the HTML content\n",
        "tables = soup.find_all('table')\n",
        "\n",
        "# Step 5: Identify the table containing \"Tesla Quarterly Revenue\"\n",
        "table_index = None\n",
        "for index, table in enumerate(tables):\n",
        "    if \"Tesla Quarterly Revenue\" in str(table):\n",
        "        table_index = index\n",
        "        break\n",
        "\n",
        "# Check if the table_index was found\n",
        "if table_index is not None:\n",
        "    print(f\"Table index with Tesla Quarterly Revenue: {table_index}\")\n",
        "\n",
        "    # Step 6: Initialize an empty DataFrame to store the revenue data\n",
        "    tesla_revenue = pd.DataFrame(columns=['Date', 'Revenue'])\n",
        "\n",
        "    # Step 7: Loop through the rows of the identified table and extract data\n",
        "    for row in tables[table_index].tbody.find_all('tr'):\n",
        "        col = row.find_all('td')\n",
        "        if col:\n",
        "            date = col[0].text.strip()\n",
        "            revenue = col[1].text.strip()\n",
        "            # Append the extracted data to the DataFrame\n",
        "            tesla_revenue = tesla_revenue.append({'Date': date, 'Revenue': revenue}, ignore_index=True)\n",
        "\n",
        "    # Step 8: Clean the revenue data by removing commas and dollar signs\n",
        "    tesla_revenue[\"Revenue\"] = tesla_revenue['Revenue'].str.replace(',|\\$',\"\", regex=True)\n",
        "\n",
        "    # Step 9: Drop rows with missing values\n",
        "    tesla_revenue.dropna(inplace=True)\n",
        "\n",
        "    # Step 10: Remove rows where the revenue is an empty string\n",
        "    tesla_revenue = tesla_revenue[tesla_revenue['Revenue'] != \"\"]\n",
        "\n",
        "    # Step 11: Display the last five rows of the cleaned DataFrame\n",
        "    print(tesla_revenue.tail(5))\n",
        "else:\n",
        "    print(\"Tesla Quarterly Revenue table not found.\")\n"
      ],
      "metadata": {
        "colab": {
          "base_uri": "https://localhost:8080/"
        },
        "id": "cGK3xCbHOAFm",
        "outputId": "b9bb128a-3797-41e7-cd08-24040d59b2a6"
      },
      "execution_count": null,
      "outputs": [
        {
          "output_type": "stream",
          "name": "stdout",
          "text": [
            "Tesla Quarterly Revenue table not found.\n"
          ]
        }
      ]
    },
    {
      "cell_type": "markdown",
      "source": [
        "# **Question 3: Use `yfinance` to Extract Stock Data**\n",
        "\n",
        "Reset the index, save, and display the first five rows of the `gme_data` dataframe using the `head` function."
      ],
      "metadata": {
        "id": "SpVbU5YgOk8O"
      }
    },
    {
      "cell_type": "code",
      "source": [
        "import yfinance as yf\n",
        "import pandas as pd\n",
        "import matplotlib.pyplot as plt"
      ],
      "metadata": {
        "id": "-1vYFpWSPAt5"
      },
      "execution_count": null,
      "outputs": []
    },
    {
      "cell_type": "code",
      "source": [
        "# Get GameStop stock data\n",
        "gamestop = yf.Ticker('GME')\n",
        "\n",
        "# Fetch historical data for GameStop\n",
        "gme_data = gamestop.history(period='max')\n",
        "\n",
        "# Reset the index to make 'Date' a column\n",
        "gme_data.reset_index(inplace=True)\n",
        "\n",
        "# Display the first 5 rows of the data\n",
        "print(gme_data.head())"
      ],
      "metadata": {
        "colab": {
          "base_uri": "https://localhost:8080/"
        },
        "id": "LXKlxO2fPi5x",
        "outputId": "0707599c-a6d0-470c-c5d4-c6ab9c470057"
      },
      "execution_count": null,
      "outputs": [
        {
          "output_type": "stream",
          "name": "stdout",
          "text": [
            "                       Date      Open      High       Low     Close    Volume  \\\n",
            "0 2002-02-13 00:00:00-05:00  1.620128  1.693350  1.603296  1.691666  76216000   \n",
            "1 2002-02-14 00:00:00-05:00  1.712707  1.716074  1.670626  1.683251  11021600   \n",
            "2 2002-02-15 00:00:00-05:00  1.683250  1.687458  1.658001  1.674834   8389600   \n",
            "3 2002-02-19 00:00:00-05:00  1.666418  1.666418  1.578047  1.607504   7410400   \n",
            "4 2002-02-20 00:00:00-05:00  1.615921  1.662210  1.603296  1.662210   6892800   \n",
            "\n",
            "   Dividends  Stock Splits  \n",
            "0        0.0           0.0  \n",
            "1        0.0           0.0  \n",
            "2        0.0           0.0  \n",
            "3        0.0           0.0  \n",
            "4        0.0           0.0  \n"
          ]
        }
      ]
    },
    {
      "cell_type": "code",
      "source": [
        "# Analyze the data\n",
        "print(f\"Number of rows: {len(gme_data)}\")\n",
        "print(f\"Date range: {gme_data['Date'].min()} to {gme_data['Date'].max()}\")"
      ],
      "metadata": {
        "colab": {
          "base_uri": "https://localhost:8080/"
        },
        "id": "Wp8s0V0TPlrh",
        "outputId": "f4406f84-1d18-4cb7-e5ca-7b3b9d23b5cd"
      },
      "execution_count": null,
      "outputs": [
        {
          "output_type": "stream",
          "name": "stdout",
          "text": [
            "Number of rows: 5606\n",
            "Date range: 2002-02-13 00:00:00-05:00 to 2024-05-21 00:00:00-04:00\n"
          ]
        }
      ]
    },
    {
      "cell_type": "code",
      "source": [
        "# Calculate daily returns\n",
        "gme_data['Returns'] = gme_data['Close'].pct_change()"
      ],
      "metadata": {
        "id": "z6ibZp5hPnxh"
      },
      "execution_count": null,
      "outputs": []
    },
    {
      "cell_type": "code",
      "source": [
        "# Plot the closing prices\n",
        "plt.figure(figsize=(12, 6))\n",
        "plt.plot(gme_data['Date'], gme_data['Close'])\n",
        "plt.title('GameStop Closing Prices')\n",
        "plt.xlabel('Date')\n",
        "plt.ylabel('Price (USD)')\n",
        "plt.xticks(rotation=45)\n",
        "plt.tight_layout()\n",
        "plt.show()"
      ],
      "metadata": {
        "colab": {
          "base_uri": "https://localhost:8080/",
          "height": 607
        },
        "id": "z3c31D02PpIA",
        "outputId": "785c1968-3fb7-419b-dec2-ebdaa3786b14"
      },
      "execution_count": null,
      "outputs": [
        {
          "output_type": "display_data",
          "data": {
            "text/plain": [
              "<Figure size 1200x600 with 1 Axes>"
            ],
            "image/png": "[encoded data removed]"
          },
          "metadata": {}
        }
      ]
    },
    {
      "cell_type": "code",
      "source": [
        "# Plot the daily returns\n",
        "plt.figure(figsize=(12, 6))\n",
        "plt.plot(gme_data['Date'], gme_data['Returns'])\n",
        "plt.title('GameStop Daily Returns')\n",
        "plt.xlabel('Date')\n",
        "plt.ylabel('Returns')\n",
        "plt.xticks(rotation=45)\n",
        "plt.tight_layout()\n",
        "plt.show()"
      ],
      "metadata": {
        "colab": {
          "base_uri": "https://localhost:8080/",
          "height": 607
        },
        "id": "yB9zrM-PPqza",
        "outputId": "7240c722-34cb-4b07-add5-61b1641b4b1d"
      },
      "execution_count": null,
      "outputs": [
        {
          "output_type": "display_data",
          "data": {
            "text/plain": [
              "<Figure size 1200x600 with 1 Axes>"
            ],
            "image/png": "[encoded data removed]"
          },
          "metadata": {}
        }
      ]
    },
    {
      "cell_type": "markdown",
      "source": [
        "# **Question 4: Use Webscraping to Extract GME Revenue Data**\n",
        "\n",
        "Display the last five rows of the `gme_revenue` dataframe using the `tail `function."
      ],
      "metadata": {
        "id": "4amD9d-mQLJq"
      }
    },
    {
      "cell_type": "code",
      "source": [
        "import requests\n",
        "from bs4 import BeautifulSoup\n",
        "import pandas as pd"
      ],
      "metadata": {
        "id": "vxMsL-r6QK4r"
      },
      "execution_count": 43,
      "outputs": []
    },
    {
      "cell_type": "code",
      "source": [
        "# Define the URL to scrape\n",
        "url = \"https://www.macrotrends.net/stocks/charts/GME/gamestop/revenue\"\n",
        "\n",
        "# Get the HTML content from the URL\n",
        "html_data = requests.get(url).text\n",
        "\n",
        "# Parse the HTML content using BeautifulSoup\n",
        "soup = BeautifulSoup(html_data, \"html5lib\")"
      ],
      "metadata": {
        "id": "2uDfnPvEROvz"
      },
      "execution_count": 44,
      "outputs": []
    },
    {
      "cell_type": "code",
      "source": [
        "# Find the table containing GameStop Quarterly Revenue\n",
        "tables = soup.find_all('table')\n",
        "for index, table in enumerate(tables):\n",
        "    if \"GameStop Quarterly Revenue\" in str(table):\n",
        "        table_index = index"
      ],
      "metadata": {
        "id": "lk26UqMtRQ3a"
      },
      "execution_count": 45,
      "outputs": []
    },
    {
      "cell_type": "code",
      "source": [
        "# Create a DataFrame to store the revenue data\n",
        "gme_revenue = pd.DataFrame(columns=['Date', 'Revenue'])\n",
        "\n",
        "# Loop through each row in the table\n",
        "for row in tables[table_index].tbody.find_all('tr'):\n",
        "    col = row.find_all('td')\n",
        "    if col != []:\n",
        "        date = col[0].text\n",
        "        revenue = col[1].text\n",
        "        gme_revenue = gme_revenue.append({'Date': date, 'Revenue': revenue}, ignore_index=True)\n",
        "\n"
      ],
      "metadata": {
        "id": "o4J9dK2XRUQ8"
      },
      "execution_count": null,
      "outputs": []
    },
    {
      "cell_type": "code",
      "source": [
        "# Clean the 'Revenue' column by removing commas and dollar signs\n",
        "gme_revenue[\"Revenue\"] = gme_revenue['Revenue'].str.replace(',|\\$', '')\n",
        "\n",
        "# Drop any rows with missing values and empty revenue values\n",
        "gme_revenue.dropna(inplace=True)\n",
        "gme_revenue = gme_revenue[gme_revenue['Revenue'] != \"\"]"
      ],
      "metadata": {
        "id": "RskvLArERV0S"
      },
      "execution_count": null,
      "outputs": []
    },
    {
      "cell_type": "code",
      "source": [
        "gme_revenue.tail(5)"
      ],
      "metadata": {
        "id": "LG9fzgxjRXgz"
      },
      "execution_count": null,
      "outputs": []
    },
    {
      "cell_type": "markdown",
      "source": [
        "# **Question 5: Plot Tesla Stock Graph**\n",
        "\n",
        "Use the `make_graph` function to graph the Tesla Stock Data, also provide a title for the graph."
      ],
      "metadata": {
        "id": "jIFCUzaES166"
      }
    },
    {
      "cell_type": "code",
      "source": [
        "import matplotlib.pyplot as plt\n",
        "\n",
        "def make_graph(stock_data, revenue_data, company_name):\n",
        "    fig, (ax1, ax2) = plt.subplots(2, 1, figsize=(12, 10))\n",
        "\n",
        "    # Plot for Stock Price\n",
        "    ax1.plot(stock_data['Date'], stock_data['Close'], color='b')\n",
        "    ax1.set_xlabel('Date')\n",
        "    ax1.set_ylabel('Stock Price', color='b')\n",
        "    ax1.set_title(f'{company_name} Stock Price')\n",
        "\n",
        "    # Plot for Revenue\n",
        "    ax2.plot(revenue_data['Date'], revenue_data['Revenue'], color='g')\n",
        "    ax2.set_xlabel('Date')\n",
        "    ax2.set_ylabel('Revenue', color='g')\n",
        "    ax2.set_title(f'{company_name} Revenue')\n",
        "\n",
        "    plt.tight_layout()\n",
        "    plt.show()\n",
        "\n",
        "# Call the make_graph function for Tesla data\n",
        "make_graph(tesla_data, tesla_revenue, 'Tesla')"
      ],
      "metadata": {
        "colab": {
          "base_uri": "https://localhost:8080/",
          "height": 1000
        },
        "id": "fnZ0BrqjS9q-",
        "outputId": "1a53d6d2-b6be-4b55-8994-56eda1d70858"
      },
      "execution_count": 54,
      "outputs": [
        {
          "output_type": "display_data",
          "data": {
            "text/plain": [
              "<Figure size 1200x1000 with 2 Axes>"
            ],
            "image/png": "[encoded data removed]"
          },
          "metadata": {}
        }
      ]
    },
    {
      "cell_type": "markdown",
      "source": [
        "# **Question 6: Plot GameStop Stock Graph**\n",
        "\n",
        "Use the `make_graph` function to graph the GameStop Stock Data, also provide a title for the graph."
      ],
      "metadata": {
        "id": "yv-Di68JU4Dd"
      }
    },
    {
      "cell_type": "code",
      "source": [
        "import matplotlib.pyplot as plt\n",
        "\n",
        "def make_graph(stock_data, revenue_data, company_name):\n",
        "    fig, (ax1, ax2) = plt.subplots(2, 1, figsize=(12, 10))\n",
        "\n",
        "    # Plot for Stock Price\n",
        "    ax1.plot(stock_data['Date'], stock_data['Close'], color='b')\n",
        "    ax1.set_xlabel('Date')\n",
        "    ax1.set_ylabel('Stock Price', color='b')\n",
        "    ax1.set_title(f'{company_name} Stock Price')\n",
        "\n",
        "    # Plot for Revenue\n",
        "    ax2.plot(revenue_data['Date'], revenue_data['Revenue'], color='g')\n",
        "    ax2.set_xlabel('Date')\n",
        "    ax2.set_ylabel('Revenue', color='g')\n",
        "    ax2.set_title(f'{company_name} Revenue')\n",
        "\n",
        "    plt.tight_layout()\n",
        "    plt.show()\n",
        "\n",
        "# Call the make_graph function for GameStop\n",
        "make_graph(gme_data, gme_revenue, 'GameStop')"
      ],
      "metadata": {
        "colab": {
          "base_uri": "https://localhost:8080/",
          "height": 1000
        },
        "id": "HCffgFbbUnwO",
        "outputId": "38690ffc-9319-4086-cd78-85314bd0b1c4"
      },
      "execution_count": 55,
      "outputs": [
        {
          "output_type": "display_data",
          "data": {
            "text/plain": [
              "<Figure size 1200x1000 with 2 Axes>"
            ],
            "image/png": "[encoded data removed]"
          },
          "metadata": {}
        }
      ]
    }
  ]
}